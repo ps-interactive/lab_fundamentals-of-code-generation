{
 "cells": [
  {
   "cell_type": "code",
   "execution_count": null,
   "metadata": {},
   "outputs": [],
   "source": [
    "from gpt4all import GPT4All"
   ]
  },
  {
   "cell_type": "code",
   "execution_count": null,
   "metadata": {},
   "outputs": [],
   "source": [
    "rift_model = GPT4All(r\"/home/pslearner/LLM_models/rift-coder-v0-7b-q4_0.gguf\")\n"
   ]
  },
  {
   "cell_type": "markdown",
   "metadata": {},
   "source": [
    "# Code generations with LLM's"
   ]
  },
  {
   "cell_type": "markdown",
   "metadata": {},
   "source": [
    "# Guided prompt engineering for code generation"
   ]
  },
  {
   "cell_type": "code",
   "execution_count": null,
   "metadata": {},
   "outputs": [],
   "source": [
    "with rift_model.chat_session(system_prompt=\"\"):\n",
    "    response = rift_model.generate(prompt= \"\", max_tokens=50, temp=0.1, streaming=False)\n",
    "    for x in rift_model.current_chat_session:\n",
    "        print(x)"
   ]
  },
  {
   "cell_type": "code",
   "execution_count": null,
   "metadata": {},
   "outputs": [],
   "source": [
    "# Example of a possible returned code\n",
    "for i in range(1, 20):\n",
    "    if i % 2 == 0:\n",
    "        num_list.append(i) #The code snippet adds the first 20 integers to `num'"
   ]
  },
  {
   "cell_type": "code",
   "execution_count": null,
   "metadata": {},
   "outputs": [],
   "source": [
    "with rift_model.chat_session(system_prompt=\"\"):\n",
    "    response = rift_model.generate(prompt= \"\", max_tokens=50, temp=0.1, streaming=False)\n",
    "    for x in rift_model.current_chat_session:\n",
    "        print(x)"
   ]
  },
  {
   "cell_type": "code",
   "execution_count": null,
   "metadata": {},
   "outputs": [],
   "source": [
    "with rift_model.chat_session(system_prompt=\"\"):\n",
    "    response = rift_model.generate(prompt= \"\", max_tokens=100, temp=0.1, streaming=False)\n",
    "    for x in rift_model.current_chat_session:\n",
    "        print(x)"
   ]
  },
  {
   "cell_type": "code",
   "execution_count": null,
   "metadata": {},
   "outputs": [],
   "source": [
    "# Example of a possible returned code\n",
    "def even_grabber():\n",
    "    best_numbers = []  # Initialize an empty list named \"best_numbers\"\n",
    "    for i in range(1, 10):   # Create a loop that iterates from 2 to 10 (inclusive)\n",
    "        num = i * 2  # Calculate the even number by multiplying the current iteration with 2\n",
    "        best_numbers.append(num)"
   ]
  },
  {
   "cell_type": "code",
   "execution_count": null,
   "metadata": {},
   "outputs": [],
   "source": [
    "with rift_model.chat_session(system_prompt=\"\"):\n",
    "    response = rift_model.generate(prompt= \"\", max_tokens=100, temp=0.1, streaming=False)\n",
    "    for x in rift_model.current_chat_session:\n",
    "        print(x)"
   ]
  },
  {
   "cell_type": "code",
   "execution_count": null,
   "metadata": {},
   "outputs": [],
   "source": [
    "# Example of a possible returned code\n",
    "def even_grabber(min, max):\n",
    "    best_numbers = []\n",
    "    for i in range(min, max+1, 2):\n",
    "        best_numbers.append(i)\n",
    "    return best_numbers\n",
    "# The 'even_grabber' function initializes an empty list named 'best_numbers'. It then creates a loop using the range() function to iterate over all even numbers between two given"
   ]
  },
  {
   "cell_type": "markdown",
   "metadata": {},
   "source": []
  }
 ],
 "metadata": {
  "kernelspec": {
   "display_name": "Python 3",
   "language": "python",
   "name": "python3"
  },
  "language_info": {
   "codemirror_mode": {
    "name": "ipython",
    "version": 3
   },
   "file_extension": ".py",
   "mimetype": "text/x-python",
   "name": "python",
   "nbconvert_exporter": "python",
   "pygments_lexer": "ipython3",
   "version": "3.11.0"
  }
 },
 "nbformat": 4,
 "nbformat_minor": 2
}
